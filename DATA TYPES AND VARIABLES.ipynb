{
 "cells": [
  {
   "cell_type": "code",
   "execution_count": 15,
   "id": "4379816c",
   "metadata": {},
   "outputs": [],
   "source": [
    "A=60"
   ]
  },
  {
   "cell_type": "code",
   "execution_count": 31,
   "id": "7c597723",
   "metadata": {},
   "outputs": [],
   "source": [
    "B=40"
   ]
  },
  {
   "cell_type": "code",
   "execution_count": null,
   "id": "b7b11ff4",
   "metadata": {},
   "outputs": [],
   "source": [
    "C=A+B"
   ]
  },
  {
   "cell_type": "code",
   "execution_count": 25,
   "id": "3f5a041b",
   "metadata": {},
   "outputs": [
    {
     "data": {
      "text/plain": [
       "100"
      ]
     },
     "execution_count": 25,
     "metadata": {},
     "output_type": "execute_result"
    }
   ],
   "source": [
    "C"
   ]
  },
  {
   "cell_type": "code",
   "execution_count": 2,
   "id": "8c8cf8a3",
   "metadata": {
    "scrolled": true
   },
   "outputs": [
    {
     "name": "stdout",
     "output_type": "stream",
     "text": [
      "Requirement already satisfied: numpy in c:\\users\\aedpu\\anaconda3\\envs\\smiley\\lib\\site-packages (1.25.2)\n",
      "Note: you may need to restart the kernel to use updated packages.\n"
     ]
    }
   ],
   "source": [
    "pip install numpy"
   ]
  },
  {
   "cell_type": "code",
   "execution_count": 27,
   "id": "a78eb85a",
   "metadata": {},
   "outputs": [],
   "source": [
    "import numpy as n"
   ]
  },
  {
   "cell_type": "code",
   "execution_count": 29,
   "id": "a3a5848c",
   "metadata": {},
   "outputs": [],
   "source": [
    "a=n.array([1,2])"
   ]
  },
  {
   "cell_type": "code",
   "execution_count": 30,
   "id": "2262d7c1",
   "metadata": {},
   "outputs": [
    {
     "data": {
      "text/plain": [
       "numpy.ndarray"
      ]
     },
     "execution_count": 30,
     "metadata": {},
     "output_type": "execute_result"
    }
   ],
   "source": [
    "type(a)"
   ]
  },
  {
   "cell_type": "code",
   "execution_count": 31,
   "id": "195d5e7b",
   "metadata": {},
   "outputs": [],
   "source": [
    "lis=[1,2,3]"
   ]
  },
  {
   "cell_type": "code",
   "execution_count": 32,
   "id": "4cfc0f90",
   "metadata": {},
   "outputs": [
    {
     "data": {
      "text/plain": [
       "list"
      ]
     },
     "execution_count": 32,
     "metadata": {},
     "output_type": "execute_result"
    }
   ],
   "source": [
    "type(lis)"
   ]
  },
  {
   "cell_type": "code",
   "execution_count": 33,
   "id": "4bd9ebc5",
   "metadata": {},
   "outputs": [],
   "source": [
    "tup=(1,2,3)"
   ]
  },
  {
   "cell_type": "code",
   "execution_count": 34,
   "id": "e5a66e92",
   "metadata": {},
   "outputs": [
    {
     "data": {
      "text/plain": [
       "tuple"
      ]
     },
     "execution_count": 34,
     "metadata": {},
     "output_type": "execute_result"
    }
   ],
   "source": [
    "type(tup)"
   ]
  },
  {
   "cell_type": "code",
   "execution_count": 50,
   "id": "2b289ef6",
   "metadata": {},
   "outputs": [],
   "source": [
    "c=range(10,100) "
   ]
  },
  {
   "cell_type": "code",
   "execution_count": 48,
   "id": "d4af8cdc",
   "metadata": {},
   "outputs": [
    {
     "data": {
      "text/plain": [
       "range(10, 100)"
      ]
     },
     "execution_count": 48,
     "metadata": {},
     "output_type": "execute_result"
    }
   ],
   "source": [
    "c"
   ]
  },
  {
   "cell_type": "code",
   "execution_count": 49,
   "id": "89b8262e",
   "metadata": {},
   "outputs": [
    {
     "name": "stdout",
     "output_type": "stream",
     "text": [
      "range(10, 100)\n"
     ]
    }
   ],
   "source": [
    "print(c)"
   ]
  },
  {
   "cell_type": "code",
   "execution_count": 51,
   "id": "88256b54",
   "metadata": {},
   "outputs": [
    {
     "data": {
      "text/plain": [
       "[10,\n",
       " 11,\n",
       " 12,\n",
       " 13,\n",
       " 14,\n",
       " 15,\n",
       " 16,\n",
       " 17,\n",
       " 18,\n",
       " 19,\n",
       " 20,\n",
       " 21,\n",
       " 22,\n",
       " 23,\n",
       " 24,\n",
       " 25,\n",
       " 26,\n",
       " 27,\n",
       " 28,\n",
       " 29,\n",
       " 30,\n",
       " 31,\n",
       " 32,\n",
       " 33,\n",
       " 34,\n",
       " 35,\n",
       " 36,\n",
       " 37,\n",
       " 38,\n",
       " 39,\n",
       " 40,\n",
       " 41,\n",
       " 42,\n",
       " 43,\n",
       " 44,\n",
       " 45,\n",
       " 46,\n",
       " 47,\n",
       " 48,\n",
       " 49,\n",
       " 50,\n",
       " 51,\n",
       " 52,\n",
       " 53,\n",
       " 54,\n",
       " 55,\n",
       " 56,\n",
       " 57,\n",
       " 58,\n",
       " 59,\n",
       " 60,\n",
       " 61,\n",
       " 62,\n",
       " 63,\n",
       " 64,\n",
       " 65,\n",
       " 66,\n",
       " 67,\n",
       " 68,\n",
       " 69,\n",
       " 70,\n",
       " 71,\n",
       " 72,\n",
       " 73,\n",
       " 74,\n",
       " 75,\n",
       " 76,\n",
       " 77,\n",
       " 78,\n",
       " 79,\n",
       " 80,\n",
       " 81,\n",
       " 82,\n",
       " 83,\n",
       " 84,\n",
       " 85,\n",
       " 86,\n",
       " 87,\n",
       " 88,\n",
       " 89,\n",
       " 90,\n",
       " 91,\n",
       " 92,\n",
       " 93,\n",
       " 94,\n",
       " 95,\n",
       " 96,\n",
       " 97,\n",
       " 98,\n",
       " 99,\n",
       " 100]"
      ]
     },
     "execution_count": 51,
     "metadata": {},
     "output_type": "execute_result"
    }
   ],
   "source": [
    "list(range(10,101))"
   ]
  },
  {
   "cell_type": "code",
   "execution_count": 57,
   "id": "1a835a80",
   "metadata": {},
   "outputs": [],
   "source": [
    "l1=[\"mano\",10,5+2j]"
   ]
  },
  {
   "cell_type": "code",
   "execution_count": 58,
   "id": "f75f9adc",
   "metadata": {},
   "outputs": [
    {
     "data": {
      "text/plain": [
       "['mano', 10, (5+2j)]"
      ]
     },
     "execution_count": 58,
     "metadata": {},
     "output_type": "execute_result"
    }
   ],
   "source": [
    "l1"
   ]
  },
  {
   "cell_type": "code",
   "execution_count": 59,
   "id": "5db932fc",
   "metadata": {},
   "outputs": [],
   "source": [
    "l1.append(10)"
   ]
  },
  {
   "cell_type": "code",
   "execution_count": 60,
   "id": "4db944c3",
   "metadata": {},
   "outputs": [
    {
     "data": {
      "text/plain": [
       "['mano', 10, (5+2j), 10]"
      ]
     },
     "execution_count": 60,
     "metadata": {},
     "output_type": "execute_result"
    }
   ],
   "source": [
    "l1"
   ]
  },
  {
   "cell_type": "code",
   "execution_count": 64,
   "id": "8901b976",
   "metadata": {},
   "outputs": [],
   "source": [
    "tup1=(\"mano\",10,5+2j)"
   ]
  },
  {
   "cell_type": "code",
   "execution_count": 65,
   "id": "7fbc1a57",
   "metadata": {},
   "outputs": [
    {
     "data": {
      "text/plain": [
       "('mano', 10, (5+2j))"
      ]
     },
     "execution_count": 65,
     "metadata": {},
     "output_type": "execute_result"
    }
   ],
   "source": [
    "tup1"
   ]
  },
  {
   "cell_type": "code",
   "execution_count": 66,
   "id": "97522a62",
   "metadata": {
    "scrolled": true
   },
   "outputs": [
    {
     "ename": "AttributeError",
     "evalue": "'tuple' object has no attribute 'append'",
     "output_type": "error",
     "traceback": [
      "\u001b[1;31m---------------------------------------------------------------------------\u001b[0m",
      "\u001b[1;31mAttributeError\u001b[0m                            Traceback (most recent call last)",
      "Cell \u001b[1;32mIn[66], line 1\u001b[0m\n\u001b[1;32m----> 1\u001b[0m \u001b[43mtup1\u001b[49m\u001b[38;5;241;43m.\u001b[39;49m\u001b[43mappend\u001b[49m(\u001b[38;5;241m10\u001b[39m)\n",
      "\u001b[1;31mAttributeError\u001b[0m: 'tuple' object has no attribute 'append'"
     ]
    }
   ],
   "source": [
    "tup1.append(10)"
   ]
  },
  {
   "cell_type": "code",
   "execution_count": 1,
   "id": "1e02657f",
   "metadata": {},
   "outputs": [],
   "source": [
    "NAMES={1:'MANO',2:'GOKUL',3:'WASIM',4:'BHUVI'}"
   ]
  },
  {
   "cell_type": "code",
   "execution_count": 2,
   "id": "c450f857",
   "metadata": {},
   "outputs": [
    {
     "data": {
      "text/plain": [
       "dict"
      ]
     },
     "execution_count": 2,
     "metadata": {},
     "output_type": "execute_result"
    }
   ],
   "source": [
    "type(NAMES)"
   ]
  },
  {
   "cell_type": "code",
   "execution_count": 3,
   "id": "39632ea0",
   "metadata": {},
   "outputs": [
    {
     "data": {
      "text/plain": [
       "dict_values(['MANO', 'GOKUL', 'WASIM', 'BHUVI'])"
      ]
     },
     "execution_count": 3,
     "metadata": {},
     "output_type": "execute_result"
    }
   ],
   "source": [
    "NAMES.values()"
   ]
  },
  {
   "cell_type": "code",
   "execution_count": 4,
   "id": "acd02e19",
   "metadata": {},
   "outputs": [
    {
     "data": {
      "text/plain": [
       "dict_keys([1, 2, 3, 4])"
      ]
     },
     "execution_count": 4,
     "metadata": {},
     "output_type": "execute_result"
    }
   ],
   "source": [
    "NAMES.keys()"
   ]
  },
  {
   "cell_type": "code",
   "execution_count": 5,
   "id": "1d9df32c",
   "metadata": {
    "scrolled": true
   },
   "outputs": [
    {
     "data": {
      "text/plain": [
       "'MANO'"
      ]
     },
     "execution_count": 5,
     "metadata": {},
     "output_type": "execute_result"
    }
   ],
   "source": [
    "NAMES[1]"
   ]
  },
  {
   "cell_type": "code",
   "execution_count": 8,
   "id": "9a6be29e",
   "metadata": {},
   "outputs": [
    {
     "data": {
      "text/plain": [
       "'BHUVI'"
      ]
     },
     "execution_count": 8,
     "metadata": {},
     "output_type": "execute_result"
    }
   ],
   "source": [
    "NAMES[4]"
   ]
  },
  {
   "cell_type": "code",
   "execution_count": 9,
   "id": "977780f4",
   "metadata": {},
   "outputs": [],
   "source": [
    "NAMES[1]=\"DHANUSH\""
   ]
  },
  {
   "cell_type": "code",
   "execution_count": 10,
   "id": "b5dc7f3e",
   "metadata": {},
   "outputs": [
    {
     "data": {
      "text/plain": [
       "{1: 'DHANUSH', 2: 'GOKUL', 3: 'WASIM', 4: 'BHUVI'}"
      ]
     },
     "execution_count": 10,
     "metadata": {},
     "output_type": "execute_result"
    }
   ],
   "source": [
    "NAMES"
   ]
  },
  {
   "cell_type": "code",
   "execution_count": 11,
   "id": "b6fd5612",
   "metadata": {},
   "outputs": [],
   "source": [
    "DETAIL={\"NAMES\":\"DHANUSH\",\"AGE\":19,\"BG\":\"B+VE\"}"
   ]
  },
  {
   "cell_type": "code",
   "execution_count": 12,
   "id": "5d34d325",
   "metadata": {},
   "outputs": [
    {
     "data": {
      "text/plain": [
       "{'NAMES': 'DHANUSH', 'AGE': 19, 'BG': 'B+VE'}"
      ]
     },
     "execution_count": 12,
     "metadata": {},
     "output_type": "execute_result"
    }
   ],
   "source": [
    "DETAIL"
   ]
  },
  {
   "cell_type": "code",
   "execution_count": 13,
   "id": "7dd5c92e",
   "metadata": {},
   "outputs": [
    {
     "data": {
      "text/plain": [
       "'DHANUSH'"
      ]
     },
     "execution_count": 13,
     "metadata": {},
     "output_type": "execute_result"
    }
   ],
   "source": [
    "DETAIL[\"NAMES\"]"
   ]
  },
  {
   "cell_type": "code",
   "execution_count": 14,
   "id": "5abacbe6",
   "metadata": {},
   "outputs": [
    {
     "data": {
      "text/plain": [
       "3"
      ]
     },
     "execution_count": 14,
     "metadata": {},
     "output_type": "execute_result"
    }
   ],
   "source": [
    "len(DETAIL)"
   ]
  },
  {
   "cell_type": "code",
   "execution_count": 16,
   "id": "bce02c34",
   "metadata": {},
   "outputs": [
    {
     "data": {
      "text/plain": [
       "'DHANUSH'"
      ]
     },
     "execution_count": 16,
     "metadata": {},
     "output_type": "execute_result"
    }
   ],
   "source": [
    "DETAIL.pop('NAMES')"
   ]
  },
  {
   "cell_type": "code",
   "execution_count": 17,
   "id": "27721a83",
   "metadata": {},
   "outputs": [],
   "source": [
    "DETAIL2={\"DHANUSH:19\",\"GOKUL:18\",\"MANO:18\"}"
   ]
  },
  {
   "cell_type": "code",
   "execution_count": 18,
   "id": "d6d7bed7",
   "metadata": {},
   "outputs": [
    {
     "data": {
      "text/plain": [
       "set"
      ]
     },
     "execution_count": 18,
     "metadata": {},
     "output_type": "execute_result"
    }
   ],
   "source": [
    "type(DETAIL2)"
   ]
  },
  {
   "cell_type": "code",
   "execution_count": 19,
   "id": "1d58791b",
   "metadata": {},
   "outputs": [
    {
     "data": {
      "text/plain": [
       "{'DHANUSH:19', 'GOKUL:18', 'MANO:18'}"
      ]
     },
     "execution_count": 19,
     "metadata": {},
     "output_type": "execute_result"
    }
   ],
   "source": [
    "DETAIL2"
   ]
  },
  {
   "cell_type": "code",
   "execution_count": 24,
   "id": "91137009",
   "metadata": {},
   "outputs": [],
   "source": [
    "DETAIL2.add(\"MANO\")"
   ]
  },
  {
   "cell_type": "code",
   "execution_count": 25,
   "id": "60f76c15",
   "metadata": {},
   "outputs": [
    {
     "data": {
      "text/plain": [
       "{'DHANUSH:19', 'GOKUL:18', 'MANO', 'MANO:18'}"
      ]
     },
     "execution_count": 25,
     "metadata": {},
     "output_type": "execute_result"
    }
   ],
   "source": [
    "DETAIL2"
   ]
  },
  {
   "cell_type": "code",
   "execution_count": 30,
   "id": "5b56dd95",
   "metadata": {},
   "outputs": [],
   "source": [
    "DETAIL2.update({\"MANO\",\"GOKUL\"})"
   ]
  },
  {
   "cell_type": "code",
   "execution_count": 27,
   "id": "6ef39aa0",
   "metadata": {},
   "outputs": [
    {
     "data": {
      "text/plain": [
       "{'DHANUSH:19', 'GOKUL:18', 'MANO', 'MANO:18'}"
      ]
     },
     "execution_count": 27,
     "metadata": {},
     "output_type": "execute_result"
    }
   ],
   "source": [
    "DETAIL2"
   ]
  },
  {
   "cell_type": "code",
   "execution_count": 33,
   "id": "72b89fe7",
   "metadata": {},
   "outputs": [],
   "source": [
    "DETAIL3=frozenset({\"MANO\",\"GOKUL\"})"
   ]
  },
  {
   "cell_type": "code",
   "execution_count": 34,
   "id": "6c495048",
   "metadata": {},
   "outputs": [
    {
     "data": {
      "text/plain": [
       "frozenset"
      ]
     },
     "execution_count": 34,
     "metadata": {},
     "output_type": "execute_result"
    }
   ],
   "source": [
    "type(DETAIL3)"
   ]
  },
  {
   "cell_type": "code",
   "execution_count": 38,
   "id": "65524211",
   "metadata": {},
   "outputs": [
    {
     "data": {
      "text/plain": [
       "True"
      ]
     },
     "execution_count": 38,
     "metadata": {},
     "output_type": "execute_result"
    }
   ],
   "source": [
    "a=40\n",
    "b=30\n",
    "a>b"
   ]
  },
  {
   "cell_type": "code",
   "execution_count": 39,
   "id": "f2dbaf85",
   "metadata": {},
   "outputs": [
    {
     "data": {
      "text/plain": [
       "True"
      ]
     },
     "execution_count": 39,
     "metadata": {},
     "output_type": "execute_result"
    }
   ],
   "source": [
    "a=50\n",
    "b=0\n"
   ]
  },
  {
   "cell_type": "code",
   "execution_count": null,
   "id": "4e392625",
   "metadata": {},
   "outputs": [],
   "source": []
  }
 ],
 "metadata": {
  "kernelspec": {
   "display_name": "Python 3 (ipykernel)",
   "language": "python",
   "name": "python3"
  },
  "language_info": {
   "codemirror_mode": {
    "name": "ipython",
    "version": 3
   },
   "file_extension": ".py",
   "mimetype": "text/x-python",
   "name": "python",
   "nbconvert_exporter": "python",
   "pygments_lexer": "ipython3",
   "version": "3.9.17"
  }
 },
 "nbformat": 4,
 "nbformat_minor": 5
}
