{
 "cells": [
  {
   "cell_type": "code",
   "execution_count": 4,
   "id": "52456323",
   "metadata": {},
   "outputs": [],
   "source": [
    "a=10"
   ]
  },
  {
   "cell_type": "code",
   "execution_count": 5,
   "id": "a456d749",
   "metadata": {},
   "outputs": [
    {
     "data": {
      "text/plain": [
       "10"
      ]
     },
     "execution_count": 5,
     "metadata": {},
     "output_type": "execute_result"
    }
   ],
   "source": [
    "a"
   ]
  },
  {
   "cell_type": "code",
   "execution_count": 6,
   "id": "2df97f4a",
   "metadata": {},
   "outputs": [
    {
     "name": "stdout",
     "output_type": "stream",
     "text": [
      "10\n"
     ]
    }
   ],
   "source": [
    "print(a)"
   ]
  },
  {
   "cell_type": "code",
   "execution_count": 7,
   "id": "307406a1",
   "metadata": {},
   "outputs": [
    {
     "name": "stdout",
     "output_type": "stream",
     "text": [
      "the value of 'a' is 10\n"
     ]
    }
   ],
   "source": [
    "print(\"the value of 'a' is\",format(a))"
   ]
  },
  {
   "cell_type": "code",
   "execution_count": 31,
   "id": "4d9b3a8d",
   "metadata": {},
   "outputs": [
    {
     "name": "stdout",
     "output_type": "stream",
     "text": [
      "my name is gokul\n"
     ]
    }
   ],
   "source": [
    "print(\"my name is gokul\")"
   ]
  },
  {
   "cell_type": "code",
   "execution_count": 14,
   "id": "c0f8f13e",
   "metadata": {},
   "outputs": [],
   "source": [
    "a=\"gokul\""
   ]
  },
  {
   "cell_type": "code",
   "execution_count": 15,
   "id": "4c7a218d",
   "metadata": {},
   "outputs": [
    {
     "name": "stdout",
     "output_type": "stream",
     "text": [
      "gokul\n"
     ]
    }
   ],
   "source": [
    "print(a)"
   ]
  },
  {
   "cell_type": "code",
   "execution_count": 16,
   "id": "b054f0d5",
   "metadata": {},
   "outputs": [
    {
     "name": "stdout",
     "output_type": "stream",
     "text": [
      "gokul\n"
     ]
    }
   ],
   "source": [
    "print(a)"
   ]
  },
  {
   "cell_type": "code",
   "execution_count": 17,
   "id": "233d23d6",
   "metadata": {},
   "outputs": [
    {
     "name": "stdout",
     "output_type": "stream",
     "text": [
      "my name is  gokul\n"
     ]
    }
   ],
   "source": [
    "print(\"my name is \",format(a))"
   ]
  },
  {
   "cell_type": "code",
   "execution_count": 19,
   "id": "6264c0ea",
   "metadata": {},
   "outputs": [
    {
     "name": "stdout",
     "output_type": "stream",
     "text": [
      "my name is (gokul).I am in pmist\n"
     ]
    }
   ],
   "source": [
    "print(\"my name is (gokul).I am in pmist\".format(name='gokul',college=\"pmist\"))"
   ]
  },
  {
   "cell_type": "code",
   "execution_count": 26,
   "id": "62a9df77",
   "metadata": {},
   "outputs": [
    {
     "name": "stdout",
     "output_type": "stream",
     "text": [
      "my name pmist.I am in gokul\n"
     ]
    }
   ],
   "source": [
    "print(\"my name {}.I am in {}\".format('pmist',\"gokul\"))"
   ]
  },
  {
   "cell_type": "markdown",
   "id": "9544a96e",
   "metadata": {},
   "source": [
    "# F-print"
   ]
  },
  {
   "cell_type": "code",
   "execution_count": 32,
   "id": "25eb0847",
   "metadata": {},
   "outputs": [
    {
     "name": "stdout",
     "output_type": "stream",
     "text": [
      "my name is gokul.I am robotics engineer\n"
     ]
    }
   ],
   "source": [
    "print(f\"my name is {'gokul'}.I am {'robotics'} engineer\")"
   ]
  },
  {
   "cell_type": "markdown",
   "id": "f37167af",
   "metadata": {},
   "source": [
    "# TASK1"
   ]
  },
  {
   "cell_type": "markdown",
   "id": "0303cbed",
   "metadata": {},
   "source": [
    "# she sell \"sea\" shell in \"sea shore\""
   ]
  },
  {
   "cell_type": "code",
   "execution_count": 38,
   "id": "9a23cb1f",
   "metadata": {},
   "outputs": [
    {
     "name": "stdout",
     "output_type": "stream",
     "text": [
      "shesellsea shell insea shore\n"
     ]
    }
   ],
   "source": [
    "print(\"she{}sea shell in{}\".format(\"sell\",\"sea shore\"))"
   ]
  },
  {
   "cell_type": "markdown",
   "id": "be75cba5",
   "metadata": {},
   "source": [
    "# USER  INPUT"
   ]
  },
  {
   "cell_type": "code",
   "execution_count": 36,
   "id": "bf673405",
   "metadata": {},
   "outputs": [
    {
     "name": "stdout",
     "output_type": "stream",
     "text": [
      "134\n"
     ]
    }
   ],
   "source": [
    "var=input()"
   ]
  },
  {
   "cell_type": "code",
   "execution_count": 37,
   "id": "b02da972",
   "metadata": {},
   "outputs": [
    {
     "data": {
      "text/plain": [
       "'134'"
      ]
     },
     "execution_count": 37,
     "metadata": {},
     "output_type": "execute_result"
    }
   ],
   "source": [
    "var"
   ]
  },
  {
   "cell_type": "code",
   "execution_count": 40,
   "id": "66f41001",
   "metadata": {},
   "outputs": [
    {
     "name": "stdout",
     "output_type": "stream",
     "text": [
      "enter the name gokul\n"
     ]
    }
   ],
   "source": [
    "var=input(\"enter the name\")"
   ]
  },
  {
   "cell_type": "code",
   "execution_count": 41,
   "id": "cde50f0d",
   "metadata": {},
   "outputs": [
    {
     "data": {
      "text/plain": [
       "' gokul'"
      ]
     },
     "execution_count": 41,
     "metadata": {},
     "output_type": "execute_result"
    }
   ],
   "source": [
    "var"
   ]
  },
  {
   "cell_type": "code",
   "execution_count": null,
   "id": "6de26034",
   "metadata": {},
   "outputs": [],
   "source": []
  }
 ],
 "metadata": {
  "kernelspec": {
   "display_name": "Python 3 (ipykernel)",
   "language": "python",
   "name": "python3"
  },
  "language_info": {
   "codemirror_mode": {
    "name": "ipython",
    "version": 3
   },
   "file_extension": ".py",
   "mimetype": "text/x-python",
   "name": "python",
   "nbconvert_exporter": "python",
   "pygments_lexer": "ipython3",
   "version": "3.9.17"
  }
 },
 "nbformat": 4,
 "nbformat_minor": 5
}
